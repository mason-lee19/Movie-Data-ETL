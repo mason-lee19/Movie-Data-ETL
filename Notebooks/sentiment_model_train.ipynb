{
 "cells": [
  {
   "cell_type": "code",
   "execution_count": 28,
   "metadata": {},
   "outputs": [],
   "source": [
    "from newsapi import NewsApiClient\n",
    "import os\n",
    "from pathlib import Path\n",
    "from dotenv import load_dotenv\n",
    "import pandas as pd"
   ]
  },
  {
   "cell_type": "code",
   "execution_count": 29,
   "metadata": {},
   "outputs": [],
   "source": [
    "local_dir = os.path.dirname(os.path.abspath('__file__'))\n",
    "parent_dir = os.path.dirname(local_dir)\n",
    "api_env_filepath = os.path.join(parent_dir,'api.env')\n",
    "load_dotenv(Path(api_env_filepath))\n",
    "\n",
    "newsapi = NewsApiClient(api_key=os.getenv('NEWSAPI_API_KEY'))"
   ]
  },
  {
   "cell_type": "code",
   "execution_count": 30,
   "metadata": {},
   "outputs": [],
   "source": [
    "top_us_headlines = newsapi.get_top_headlines(\n",
    "    country='us',\n",
    "    category='business',\n",
    "    language='en',\n",
    "    page_size=100\n",
    ")\n",
    "\n",
    "top_titles = []\n",
    "for i in top_us_headlines['articles']:\n",
    "    top_titles.append(i['title'])"
   ]
  },
  {
   "cell_type": "code",
   "execution_count": 31,
   "metadata": {},
   "outputs": [
    {
     "data": {
      "text/plain": [
       "[\"Elon Musk warns his companies would ban Apple devices after OpenAI deal: 'Unacceptable security violation' - New York Post \",\n",
       " \"krispy kreme stock pops on truist upgrade for mcdonald's deal - Quartz\",\n",
       " 'Dozens Arrested as Activists Target Citigroup for Bankrolling Climate Breakdown - Common Dreams',\n",
       " 'This is when you can expect mortgage rates to go down — and why you should buy before a recession hits - New York Post ',\n",
       " \"World's largest Buc-ee's opens in Texas Hill Country - KHOU.com\",\n",
       " 'Elon Musk pay package: Lawyers who blocked it seek $5.6 billion - Fortune',\n",
       " \"Paramount For Sale, Who's Buying? Edgar Bronfman Jr Latest To Eye Deal As Skydance Talks Continue - Deadline\",\n",
       " 'Chrysler recalls more than 211000 SUVs and pickup trucks due to software malfunction - The Associated Press',\n",
       " 'UAW President Fain under investigation by federal court watchdog - Detroit News',\n",
       " 'OpenAI hires new CFO and product chief, announces Apple deal to integrate ChatGPT - CNBC']"
      ]
     },
     "execution_count": 31,
     "metadata": {},
     "output_type": "execute_result"
    }
   ],
   "source": [
    "top_titles[0:10]"
   ]
  },
  {
   "cell_type": "code",
   "execution_count": 5,
   "metadata": {},
   "outputs": [],
   "source": [
    "df = pd.read_csv('../Data/sp500.csv')"
   ]
  },
  {
   "cell_type": "code",
   "execution_count": 152,
   "metadata": {},
   "outputs": [],
   "source": [
    "df_copy = df.copy()"
   ]
  },
  {
   "cell_type": "code",
   "execution_count": 153,
   "metadata": {},
   "outputs": [
    {
     "data": {
      "text/html": [
       "<div>\n",
       "<style scoped>\n",
       "    .dataframe tbody tr th:only-of-type {\n",
       "        vertical-align: middle;\n",
       "    }\n",
       "\n",
       "    .dataframe tbody tr th {\n",
       "        vertical-align: top;\n",
       "    }\n",
       "\n",
       "    .dataframe thead th {\n",
       "        text-align: right;\n",
       "    }\n",
       "</style>\n",
       "<table border=\"1\" class=\"dataframe\">\n",
       "  <thead>\n",
       "    <tr style=\"text-align: right;\">\n",
       "      <th></th>\n",
       "      <th>Symbol</th>\n",
       "      <th>Name</th>\n",
       "      <th>Sector</th>\n",
       "    </tr>\n",
       "  </thead>\n",
       "  <tbody>\n",
       "    <tr>\n",
       "      <th>0</th>\n",
       "      <td>MMM</td>\n",
       "      <td>3M</td>\n",
       "      <td>Industrials</td>\n",
       "    </tr>\n",
       "    <tr>\n",
       "      <th>1</th>\n",
       "      <td>AOS</td>\n",
       "      <td>A.O. Smith</td>\n",
       "      <td>Industrials</td>\n",
       "    </tr>\n",
       "    <tr>\n",
       "      <th>2</th>\n",
       "      <td>ABT</td>\n",
       "      <td>Abbott Labs</td>\n",
       "      <td>Health Care</td>\n",
       "    </tr>\n",
       "    <tr>\n",
       "      <th>3</th>\n",
       "      <td>ABT</td>\n",
       "      <td>Abbott</td>\n",
       "      <td>Health Care</td>\n",
       "    </tr>\n",
       "    <tr>\n",
       "      <th>4</th>\n",
       "      <td>ABBV</td>\n",
       "      <td>AbbVie</td>\n",
       "      <td>Health Care</td>\n",
       "    </tr>\n",
       "  </tbody>\n",
       "</table>\n",
       "</div>"
      ],
      "text/plain": [
       "  Symbol         Name       Sector\n",
       "0    MMM           3M  Industrials\n",
       "1    AOS   A.O. Smith  Industrials\n",
       "2    ABT  Abbott Labs  Health Care\n",
       "3    ABT     Abbott    Health Care\n",
       "4   ABBV       AbbVie  Health Care"
      ]
     },
     "execution_count": 153,
     "metadata": {},
     "output_type": "execute_result"
    }
   ],
   "source": [
    "df_copy.head()"
   ]
  },
  {
   "cell_type": "code",
   "execution_count": 154,
   "metadata": {},
   "outputs": [],
   "source": [
    "stock_alias_set = set()\n",
    "\n",
    "for index,row in df_copy.iterrows():\n",
    "    stock_alias_set.add(row['Name'].lower())"
   ]
  },
  {
   "cell_type": "code",
   "execution_count": 159,
   "metadata": {},
   "outputs": [
    {
     "name": "stdout",
     "output_type": "stream",
     "text": [
      "[('EPIC poll finds', 0.004390086440759893), ('Bidens push', 0.023458380875189744), ('EPIC poll', 0.026233073037508336), ('EVs despite Bidens', 0.04498862876540802), ('poll finds', 0.04940384002065631), ('EPIC', 0.08596317751626563), ('Americans', 0.1447773057422032), ('Bidens', 0.1447773057422032), ('push', 0.15831692877998726), ('AP-NORC', 0.15831692877998726), ('finds', 0.15831692877998726), ('shying', 0.29736558256021506), ('EVs', 0.29736558256021506), ('poll', 0.29736558256021506)]\n",
      "\n",
      "\n",
      "Overall Economy\n"
     ]
    }
   ],
   "source": [
    "text = 'Many Americans are still shying away from EVs despite Bidens push, an AP-NORC/EPIC poll finds'\n",
    "kw_extractor = KeywordExtractor()\n",
    "\n",
    "keywords = kw_extractor.extract_keywords(text)\n",
    "\n",
    "print(keywords)\n",
    "print('\\n')\n",
    "\n",
    "found_keyword = False\n",
    "\n",
    "for k in keywords:\n",
    "    cur_keyword = k[0].lower()\n",
    "    if cur_keyword in stock_alias_set:\n",
    "        found_keyword = True\n",
    "        print(cur_keyword)\n",
    "\n",
    "if not found_keyword:\n",
    "    print('Overall Economy')"
   ]
  },
  {
   "cell_type": "code",
   "execution_count": 6,
   "metadata": {},
   "outputs": [],
   "source": [
    "# pip install transformers\n",
    "# pip install fast_ml\n",
    "# pip install scipy\n",
    "# pip install matplotlib\n",
    "# pip install seaborn\n",
    "# pip install scikit-learn\n",
    "# pip install tensorflow\n",
    "# pip install torch\n",
    "# pip install datasets\n",
    "import numpy as np\n",
    "import pandas as pd\n",
    "from fast_ml.model_development import train_valid_test_split\n",
    "from transformers import Trainer, TrainingArguments, AutoConfig, AutoTokenizer, AutoModelForSequenceClassification\n",
    "import torch\n",
    "from torch import nn\n",
    "from torch.nn.functional import softmax\n",
    "from sklearn.metrics import classification_report\n",
    "from sklearn.preprocessing import LabelEncoder\n",
    "from sklearn.utils import resample\n",
    "import datasets"
   ]
  },
  {
   "cell_type": "code",
   "execution_count": 2,
   "metadata": {},
   "outputs": [
    {
     "name": "stdout",
     "output_type": "stream",
     "text": [
      "Device Available: cuda\n"
     ]
    }
   ],
   "source": [
    "DEVICE = torch.device(\"cuda\" if torch.cuda.is_available() else \"cpu\")\n",
    "print(f'Device Available: {DEVICE}')"
   ]
  },
  {
   "cell_type": "code",
   "execution_count": 3,
   "metadata": {},
   "outputs": [
    {
     "data": {
      "text/html": [
       "<div>\n",
       "<style scoped>\n",
       "    .dataframe tbody tr th:only-of-type {\n",
       "        vertical-align: middle;\n",
       "    }\n",
       "\n",
       "    .dataframe tbody tr th {\n",
       "        vertical-align: top;\n",
       "    }\n",
       "\n",
       "    .dataframe thead th {\n",
       "        text-align: right;\n",
       "    }\n",
       "</style>\n",
       "<table border=\"1\" class=\"dataframe\">\n",
       "  <thead>\n",
       "    <tr style=\"text-align: right;\">\n",
       "      <th></th>\n",
       "      <th>Sentiment</th>\n",
       "      <th>Text</th>\n",
       "    </tr>\n",
       "  </thead>\n",
       "  <tbody>\n",
       "    <tr>\n",
       "      <th>0</th>\n",
       "      <td>neutral</td>\n",
       "      <td>According to Gran , the company has no plans t...</td>\n",
       "    </tr>\n",
       "    <tr>\n",
       "      <th>1</th>\n",
       "      <td>neutral</td>\n",
       "      <td>Technopolis plans to develop in stages an area...</td>\n",
       "    </tr>\n",
       "    <tr>\n",
       "      <th>2</th>\n",
       "      <td>negative</td>\n",
       "      <td>The international electronic industry company ...</td>\n",
       "    </tr>\n",
       "    <tr>\n",
       "      <th>3</th>\n",
       "      <td>positive</td>\n",
       "      <td>With the new production plant the company woul...</td>\n",
       "    </tr>\n",
       "    <tr>\n",
       "      <th>4</th>\n",
       "      <td>positive</td>\n",
       "      <td>According to the company 's updated strategy f...</td>\n",
       "    </tr>\n",
       "  </tbody>\n",
       "</table>\n",
       "</div>"
      ],
      "text/plain": [
       "  Sentiment                                               Text\n",
       "0   neutral  According to Gran , the company has no plans t...\n",
       "1   neutral  Technopolis plans to develop in stages an area...\n",
       "2  negative  The international electronic industry company ...\n",
       "3  positive  With the new production plant the company woul...\n",
       "4  positive  According to the company 's updated strategy f..."
      ]
     },
     "execution_count": 3,
     "metadata": {},
     "output_type": "execute_result"
    }
   ],
   "source": [
    "sentiment_data = pd.read_csv('../Data/headline_sentiment_data.csv',encoding=\"ISO-8859-1\")\n",
    "sentiment_data.head()"
   ]
  },
  {
   "cell_type": "code",
   "execution_count": 5,
   "metadata": {},
   "outputs": [
    {
     "name": "stdout",
     "output_type": "stream",
     "text": [
      "2879\n",
      "1363\n",
      "604\n"
     ]
    }
   ],
   "source": [
    "print(sentiment_data['Sentiment'].value_counts().get('neutral',0))\n",
    "print(sentiment_data['Sentiment'].value_counts().get('positive',0))\n",
    "print(sentiment_data['Sentiment'].value_counts().get('negative',0))"
   ]
  },
  {
   "cell_type": "code",
   "execution_count": 7,
   "metadata": {},
   "outputs": [],
   "source": [
    "# Because of an unbalance dataset lets upsample the negative and positive\n",
    "df_neutral = sentiment_data[sentiment_data['Sentiment'] == 'neutral']\n",
    "df_positive = sentiment_data[sentiment_data['Sentiment'] == 'positive']\n",
    "df_negative = sentiment_data[sentiment_data['Sentiment'] == 'negative' ]\n",
    "\n",
    "df_positive_upsampled = resample(df_positive,\n",
    "                                 replace=True,\n",
    "                                 n_samples=2800,\n",
    "                                 random_state=42)\n",
    "\n",
    "df_negative_upsampled = resample(df_negative,\n",
    "                                 replace=True,\n",
    "                                 n_samples=2800,\n",
    "                                 random_state=42)\n",
    "\n",
    "df_balanced = pd.concat([df_neutral, df_positive_upsampled, df_negative_upsampled])"
   ]
  },
  {
   "cell_type": "code",
   "execution_count": 9,
   "metadata": {},
   "outputs": [
    {
     "name": "stdout",
     "output_type": "stream",
     "text": [
      "2879\n",
      "2800\n",
      "2800\n"
     ]
    }
   ],
   "source": [
    "print(df_balanced['Sentiment'].value_counts().get('neutral',0))\n",
    "print(df_balanced['Sentiment'].value_counts().get('positive',0))\n",
    "print(df_balanced['Sentiment'].value_counts().get('negative',0))"
   ]
  },
  {
   "cell_type": "code",
   "execution_count": 10,
   "metadata": {},
   "outputs": [],
   "source": [
    "sentiment_data = df_balanced.copy()"
   ]
  },
  {
   "cell_type": "code",
   "execution_count": 12,
   "metadata": {},
   "outputs": [
    {
     "data": {
      "text/html": [
       "<div>\n",
       "<style scoped>\n",
       "    .dataframe tbody tr th:only-of-type {\n",
       "        vertical-align: middle;\n",
       "    }\n",
       "\n",
       "    .dataframe tbody tr th {\n",
       "        vertical-align: top;\n",
       "    }\n",
       "\n",
       "    .dataframe thead th {\n",
       "        text-align: right;\n",
       "    }\n",
       "</style>\n",
       "<table border=\"1\" class=\"dataframe\">\n",
       "  <thead>\n",
       "    <tr style=\"text-align: right;\">\n",
       "      <th></th>\n",
       "      <th>Sentiment</th>\n",
       "      <th>Text</th>\n",
       "    </tr>\n",
       "  </thead>\n",
       "  <tbody>\n",
       "    <tr>\n",
       "      <th>0</th>\n",
       "      <td>1</td>\n",
       "      <td>According to Gran , the company has no plans t...</td>\n",
       "    </tr>\n",
       "    <tr>\n",
       "      <th>1</th>\n",
       "      <td>1</td>\n",
       "      <td>Technopolis plans to develop in stages an area...</td>\n",
       "    </tr>\n",
       "    <tr>\n",
       "      <th>58</th>\n",
       "      <td>1</td>\n",
       "      <td>At the request of Finnish media company Alma M...</td>\n",
       "    </tr>\n",
       "    <tr>\n",
       "      <th>59</th>\n",
       "      <td>1</td>\n",
       "      <td>In Sweden , Gallerix accumulated SEK denominat...</td>\n",
       "    </tr>\n",
       "    <tr>\n",
       "      <th>60</th>\n",
       "      <td>1</td>\n",
       "      <td>The company supports its global customers in d...</td>\n",
       "    </tr>\n",
       "  </tbody>\n",
       "</table>\n",
       "</div>"
      ],
      "text/plain": [
       "    Sentiment                                               Text\n",
       "0           1  According to Gran , the company has no plans t...\n",
       "1           1  Technopolis plans to develop in stages an area...\n",
       "58          1  At the request of Finnish media company Alma M...\n",
       "59          1  In Sweden , Gallerix accumulated SEK denominat...\n",
       "60          1  The company supports its global customers in d..."
      ]
     },
     "execution_count": 12,
     "metadata": {},
     "output_type": "execute_result"
    }
   ],
   "source": [
    "encoding_map = {'negative':0,'neutral':1,'positive':2}\n",
    "sentiment_data['Sentiment'] = sentiment_data['Sentiment'].map(encoding_map)\n",
    "sentiment_data.head()"
   ]
  },
  {
   "cell_type": "code",
   "execution_count": 14,
   "metadata": {},
   "outputs": [],
   "source": [
    "(train_texts, train_labels, val_texts, val_labels, test_texts, test_labels) = train_valid_test_split(sentiment_data, target='Sentiment', train_size=0.8, valid_size=0.1, test_size=0.1)\n",
    "\n",
    "train_texts = train_texts['Text'].to_list()\n",
    "train_labels = train_labels.to_list()\n",
    "val_texts = val_texts['Text'].to_list()\n",
    "val_labels = val_labels.to_list()\n",
    "test_texts = test_texts['Text'].to_list()\n",
    "test_labels = test_labels.to_list()"
   ]
  },
  {
   "cell_type": "code",
   "execution_count": 15,
   "metadata": {},
   "outputs": [],
   "source": [
    "class DataLoader(torch.utils.data.Dataset):\n",
    "    def __init__(self, sentences=None, labels=None):\n",
    "        self.sentences = sentences\n",
    "        self.labels = labels\n",
    "        self.tokenizer = AutoTokenizer.from_pretrained('distilbert/distilbert-base-uncased')\n",
    "\n",
    "        if bool(sentences):\n",
    "            self.encodings = self.tokenizer(self.sentences,truncation=True,padding=True)\n",
    "\n",
    "    def __getitem__(self,idx):\n",
    "        item = {key: torch.tensor(val[idx]) for key,val in self.encodings.items()}\n",
    "        \n",
    "        if self.labels == None:\n",
    "            item['labels'] = None\n",
    "        else:\n",
    "            item['labels'] = torch.tensor(self.labels[idx])\n",
    "        return item\n",
    "    \n",
    "    def __len__(self):\n",
    "        return len(self.sentences)\n",
    "\n",
    "    def encode(self,x):\n",
    "        return self.tokenizer(x, return_tensors='pt').to(DEVICE)"
   ]
  },
  {
   "cell_type": "code",
   "execution_count": 16,
   "metadata": {},
   "outputs": [
    {
     "name": "stdout",
     "output_type": "stream",
     "text": [
      "{'input_ids': tensor([ 101, 1996, 6023, 2415, 2097, 2031, 1037, 3539, 3295, 2157, 2279, 2000,\n",
      "        1996, 2026, 9215, 5311, 2080, 6005, 2276, 1012,  102,    0,    0,    0,\n",
      "           0,    0,    0,    0,    0,    0,    0,    0,    0,    0,    0,    0,\n",
      "           0,    0,    0,    0,    0,    0,    0,    0,    0,    0,    0,    0,\n",
      "           0,    0,    0,    0,    0,    0,    0,    0,    0,    0,    0,    0,\n",
      "           0,    0,    0,    0,    0,    0,    0,    0,    0,    0,    0,    0,\n",
      "           0,    0,    0,    0,    0,    0,    0,    0,    0,    0,    0,    0,\n",
      "           0,    0,    0,    0,    0,    0,    0,    0,    0,    0,    0,    0,\n",
      "           0,    0,    0,    0,    0,    0,    0,    0,    0,    0,    0,    0,\n",
      "           0,    0,    0,    0,    0,    0,    0,    0,    0,    0,    0,    0]), 'attention_mask': tensor([1, 1, 1, 1, 1, 1, 1, 1, 1, 1, 1, 1, 1, 1, 1, 1, 1, 1, 1, 1, 1, 0, 0, 0,\n",
      "        0, 0, 0, 0, 0, 0, 0, 0, 0, 0, 0, 0, 0, 0, 0, 0, 0, 0, 0, 0, 0, 0, 0, 0,\n",
      "        0, 0, 0, 0, 0, 0, 0, 0, 0, 0, 0, 0, 0, 0, 0, 0, 0, 0, 0, 0, 0, 0, 0, 0,\n",
      "        0, 0, 0, 0, 0, 0, 0, 0, 0, 0, 0, 0, 0, 0, 0, 0, 0, 0, 0, 0, 0, 0, 0, 0,\n",
      "        0, 0, 0, 0, 0, 0, 0, 0, 0, 0, 0, 0, 0, 0, 0, 0, 0, 0, 0, 0, 0, 0, 0, 0]), 'labels': tensor(2)}\n"
     ]
    }
   ],
   "source": [
    "train_dataset = DataLoader(train_texts,train_labels)\n",
    "val_dataset = DataLoader(val_texts,val_labels)\n",
    "test_dataset = DataLoader(test_texts,test_labels)\n",
    "\n",
    "print(train_dataset.__getitem__(0))"
   ]
  },
  {
   "cell_type": "code",
   "execution_count": 17,
   "metadata": {},
   "outputs": [],
   "source": [
    "f1 = datasets.load_metric('f1')\n",
    "accuracy = datasets.load_metric('accuracy')\n",
    "precision = datasets.load_metric('precision')\n",
    "recall = datasets.load_metric('recall')\n",
    "\n",
    "def compute_metrics(eval_pred):\n",
    "    metrics_dict = {}\n",
    "    predictions, labels = eval_pred\n",
    "    predictions = np.argmax(predictions,axis=1)\n",
    "    \n",
    "    metrics_dict.update(f1.compute(predictions = predictions, references = labels, average = 'macro'))\n",
    "    metrics_dict.update(accuracy.compute(predictions = predictions, references = labels))\n",
    "    metrics_dict.update(precision.compute(predictions = predictions, references = labels, average = 'macro'))\n",
    "    metrics_dict.update(recall.compute(predictions = predictions, references = labels, average = 'macro'))\n",
    "    return metrics_dict"
   ]
  },
  {
   "cell_type": "code",
   "execution_count": 18,
   "metadata": {},
   "outputs": [],
   "source": [
    "id2label_mapping = {0:'negative',1:'neutral',2:'positive'}\n",
    "label2id_mapping = {'negative':0,'neutral':1,'positive':2}\n",
    "\n",
    "config = AutoConfig.from_pretrained('distilbert/distilbert-base-uncased',\n",
    "                                    num_labels=3,\n",
    "                                    id2label=id2label_mapping,\n",
    "                                    label2id=label2id_mapping)\n",
    "\n",
    "model = AutoModelForSequenceClassification.from_config(config)"
   ]
  },
  {
   "cell_type": "code",
   "execution_count": 19,
   "metadata": {},
   "outputs": [],
   "source": [
    "training_args = TrainingArguments(\n",
    "    output_dir='../Data',\n",
    "    num_train_epochs=25,\n",
    "    per_device_train_batch_size=64,\n",
    "    per_device_eval_batch_size=64,\n",
    "    warmup_steps=500,\n",
    "    weight_decay=0.05,\n",
    "    report_to='none',\n",
    "    evaluation_strategy='steps',\n",
    "    logging_dir='../Data',\n",
    "    logging_steps=500)"
   ]
  },
  {
   "cell_type": "code",
   "execution_count": 20,
   "metadata": {},
   "outputs": [],
   "source": [
    "trainer = Trainer(\n",
    "    model=model,\n",
    "    args=training_args,\n",
    "    train_dataset=train_dataset,\n",
    "    eval_dataset=val_dataset,\n",
    "    compute_metrics=compute_metrics\n",
    ")"
   ]
  },
  {
   "cell_type": "code",
   "execution_count": 21,
   "metadata": {},
   "outputs": [
    {
     "name": "stderr",
     "output_type": "stream",
     "text": [
      " 19%|█▉        | 1000/5300 [05:36<24:48,  2.89it/s]"
     ]
    },
    {
     "name": "stdout",
     "output_type": "stream",
     "text": [
      "{'loss': 0.4117, 'grad_norm': 0.2548915147781372, 'learning_rate': 4.4791666666666673e-05, 'epoch': 9.43}\n"
     ]
    },
    {
     "name": "stderr",
     "output_type": "stream",
     "text": [
      "                                                   \n",
      " 19%|█▉        | 1000/5300 [05:38<24:48,  2.89it/s]"
     ]
    },
    {
     "name": "stdout",
     "output_type": "stream",
     "text": [
      "{'eval_loss': 0.4058915376663208, 'eval_f1': 0.9116654084687351, 'eval_accuracy': 0.9127358490566038, 'eval_precision': 0.9146710327170114, 'eval_recall': 0.9136509766281032, 'eval_runtime': 2.0899, 'eval_samples_per_second': 405.759, 'eval_steps_per_second': 6.699, 'epoch': 9.43}\n"
     ]
    },
    {
     "name": "stderr",
     "output_type": "stream",
     "text": [
      " 38%|███▊      | 2000/5300 [11:18<18:39,  2.95it/s]  "
     ]
    },
    {
     "name": "stdout",
     "output_type": "stream",
     "text": [
      "{'loss': 0.0244, 'grad_norm': 3.962609052658081, 'learning_rate': 3.4375e-05, 'epoch': 18.87}\n"
     ]
    },
    {
     "name": "stderr",
     "output_type": "stream",
     "text": [
      "                                                   \n",
      " 38%|███▊      | 2000/5300 [11:20<18:39,  2.95it/s]"
     ]
    },
    {
     "name": "stdout",
     "output_type": "stream",
     "text": [
      "{'eval_loss': 0.4130553603172302, 'eval_f1': 0.9290539060554682, 'eval_accuracy': 0.9292452830188679, 'eval_precision': 0.929125816993464, 'eval_recall': 0.9297223444601759, 'eval_runtime': 2.0513, 'eval_samples_per_second': 413.399, 'eval_steps_per_second': 6.825, 'epoch': 18.87}\n"
     ]
    },
    {
     "name": "stderr",
     "output_type": "stream",
     "text": [
      " 57%|█████▋    | 3000/5300 [16:56<12:47,  3.00it/s]  "
     ]
    },
    {
     "name": "stdout",
     "output_type": "stream",
     "text": [
      "{'loss': 0.0072, 'grad_norm': 0.004137137439101934, 'learning_rate': 2.3958333333333334e-05, 'epoch': 28.3}\n"
     ]
    },
    {
     "name": "stderr",
     "output_type": "stream",
     "text": [
      "                                                   \n",
      " 57%|█████▋    | 3000/5300 [16:58<12:47,  3.00it/s]"
     ]
    },
    {
     "name": "stdout",
     "output_type": "stream",
     "text": [
      "{'eval_loss': 0.5794388651847839, 'eval_f1': 0.9143182464119913, 'eval_accuracy': 0.9150943396226415, 'eval_precision': 0.9161480481001889, 'eval_recall': 0.9158911199972789, 'eval_runtime': 1.9987, 'eval_samples_per_second': 424.269, 'eval_steps_per_second': 7.004, 'epoch': 28.3}\n"
     ]
    },
    {
     "name": "stderr",
     "output_type": "stream",
     "text": [
      " 75%|███████▌  | 4000/5300 [22:34<07:12,  3.00it/s]"
     ]
    },
    {
     "name": "stdout",
     "output_type": "stream",
     "text": [
      "{'loss': 0.0025, 'grad_norm': 0.003968705888837576, 'learning_rate': 1.3541666666666666e-05, 'epoch': 37.74}\n"
     ]
    },
    {
     "name": "stderr",
     "output_type": "stream",
     "text": [
      "                                                   \n",
      " 75%|███████▌  | 4000/5300 [22:36<07:12,  3.00it/s]"
     ]
    },
    {
     "name": "stdout",
     "output_type": "stream",
     "text": [
      "{'eval_loss': 0.6357601881027222, 'eval_f1': 0.9227875088920543, 'eval_accuracy': 0.9233490566037735, 'eval_precision': 0.9243681889123464, 'eval_recall': 0.9240676432947699, 'eval_runtime': 2.0003, 'eval_samples_per_second': 423.94, 'eval_steps_per_second': 6.999, 'epoch': 37.74}\n"
     ]
    },
    {
     "name": "stderr",
     "output_type": "stream",
     "text": [
      " 94%|█████████▍| 5000/5300 [28:12<01:39,  3.00it/s]"
     ]
    },
    {
     "name": "stdout",
     "output_type": "stream",
     "text": [
      "{'loss': 0.0006, 'grad_norm': 0.001157345250248909, 'learning_rate': 3.125e-06, 'epoch': 47.17}\n"
     ]
    },
    {
     "name": "stderr",
     "output_type": "stream",
     "text": [
      "                                                   \n",
      " 94%|█████████▍| 5000/5300 [28:14<01:39,  3.00it/s]"
     ]
    },
    {
     "name": "stdout",
     "output_type": "stream",
     "text": [
      "{'eval_loss': 0.6455320715904236, 'eval_f1': 0.9144477733704672, 'eval_accuracy': 0.9150943396226415, 'eval_precision': 0.9160650511660027, 'eval_recall': 0.9158537842744593, 'eval_runtime': 2.0004, 'eval_samples_per_second': 423.918, 'eval_steps_per_second': 6.999, 'epoch': 47.17}\n"
     ]
    },
    {
     "name": "stderr",
     "output_type": "stream",
     "text": [
      "100%|██████████| 5300/5300 [29:55<00:00,  2.95it/s]"
     ]
    },
    {
     "name": "stdout",
     "output_type": "stream",
     "text": [
      "{'train_runtime': 1795.3614, 'train_samples_per_second': 188.903, 'train_steps_per_second': 2.952, 'train_loss': 0.08423925535331639, 'epoch': 50.0}\n"
     ]
    },
    {
     "name": "stderr",
     "output_type": "stream",
     "text": [
      "\n"
     ]
    },
    {
     "data": {
      "text/plain": [
       "TrainOutput(global_step=5300, training_loss=0.08423925535331639, metrics={'train_runtime': 1795.3614, 'train_samples_per_second': 188.903, 'train_steps_per_second': 2.952, 'total_flos': 1.0529793621396e+16, 'train_loss': 0.08423925535331639, 'epoch': 50.0})"
      ]
     },
     "execution_count": 21,
     "metadata": {},
     "output_type": "execute_result"
    }
   ],
   "source": [
    "trainer.train()"
   ]
  },
  {
   "cell_type": "code",
   "execution_count": 22,
   "metadata": {},
   "outputs": [
    {
     "name": "stderr",
     "output_type": "stream",
     "text": [
      "100%|██████████| 14/14 [00:00<00:00, 14.53it/s]\n"
     ]
    }
   ],
   "source": [
    "eval_results = trainer.predict(test_dataset)"
   ]
  },
  {
   "cell_type": "code",
   "execution_count": 23,
   "metadata": {},
   "outputs": [
    {
     "name": "stdout",
     "output_type": "stream",
     "text": [
      "{'test_loss': 0.7060199975967407, 'test_f1': 0.9152165828679655, 'test_accuracy': 0.9150943396226415, 'test_precision': 0.915450819140749, 'test_recall': 0.9161262559013298, 'test_runtime': 1.0508, 'test_samples_per_second': 807.019, 'test_steps_per_second': 13.323}\n"
     ]
    }
   ],
   "source": [
    "print(eval_results.metrics)"
   ]
  },
  {
   "cell_type": "code",
   "execution_count": 24,
   "metadata": {},
   "outputs": [],
   "source": [
    "trainer.save_model('../Models/sentiment_model')"
   ]
  },
  {
   "cell_type": "code",
   "execution_count": 25,
   "metadata": {},
   "outputs": [],
   "source": [
    "model_path = '../Models/sentiment_model'"
   ]
  },
  {
   "cell_type": "code",
   "execution_count": 26,
   "metadata": {},
   "outputs": [],
   "source": [
    "class SentimentModel():\n",
    "    def __init__(self, model_path):\n",
    "        self.model = AutoModelForSequenceClassification.from_pretrained(model_path).to(DEVICE)\n",
    "\n",
    "        args = TrainingArguments(output_dir='../Data/results', per_device_eval_batch_size=64)\n",
    "        self.batch_model = Trainer(model = self.model, args=args)\n",
    "        self.single_dataloader = DataLoader()\n",
    "\n",
    "    def batch_predict_proba(self,x):\n",
    "        predictions = self.batch_model.predict(DataLoader(x))\n",
    "        logits = torch.from_numpy(predictions.predictions)\n",
    "\n",
    "        if DEVICE == 'cpu':\n",
    "            proba = torch.nn.functional.softmax(logits,dim=1).detach().numpy()\n",
    "        else:\n",
    "            proba = torch.nn.functional.softmax(logits,dim=1).to('cpu').detach().numpy()\n",
    "\n",
    "        return proba\n",
    "\n",
    "    def predict_proba(self,x):\n",
    "        x = self.single_dataloader.encode(x).to(DEVICE)\n",
    "        predictions = self.model(**x)\n",
    "        logits = predictions.logits\n",
    "\n",
    "        if DEVICE == 'cpu':\n",
    "            proba = torch.nn.functional.softmax(logits,dim=1).detach().numpy()\n",
    "        else:\n",
    "            proba = torch.nn.functional.softmax(logits,dim=1).to('cpu').detach().numpy()\n",
    "\n",
    "        return proba\n"
   ]
  },
  {
   "cell_type": "code",
   "execution_count": 32,
   "metadata": {},
   "outputs": [
    {
     "data": {
      "text/plain": [
       "[\"Elon Musk warns his companies would ban Apple devices after OpenAI deal: 'Unacceptable security violation' - New York Post \",\n",
       " \"krispy kreme stock pops on truist upgrade for mcdonald's deal - Quartz\",\n",
       " 'Dozens Arrested as Activists Target Citigroup for Bankrolling Climate Breakdown - Common Dreams',\n",
       " 'This is when you can expect mortgage rates to go down — and why you should buy before a recession hits - New York Post ',\n",
       " \"World's largest Buc-ee's opens in Texas Hill Country - KHOU.com\"]"
      ]
     },
     "execution_count": 32,
     "metadata": {},
     "output_type": "execute_result"
    }
   ],
   "source": [
    "top_titles[0:5]"
   ]
  },
  {
   "cell_type": "code",
   "execution_count": 33,
   "metadata": {},
   "outputs": [
    {
     "data": {
      "text/plain": [
       "60"
      ]
     },
     "execution_count": 33,
     "metadata": {},
     "output_type": "execute_result"
    }
   ],
   "source": [
    "new_headlines = pd.DataFrame(top_titles, columns=['headlines'])\n",
    "new_headlines.head()\n",
    "len(new_headlines)"
   ]
  },
  {
   "cell_type": "code",
   "execution_count": 34,
   "metadata": {},
   "outputs": [],
   "source": [
    "batch_sentences = new_headlines.sample(n=len(new_headlines),random_state=1)['headlines'].to_list()\n",
    "single_sentence = new_headlines.sample(n=1,random_state=1)['headlines'].to_list()[0]"
   ]
  },
  {
   "cell_type": "code",
   "execution_count": 35,
   "metadata": {},
   "outputs": [],
   "source": [
    "sentiment_model = SentimentModel('../Models/sentiment_model')"
   ]
  },
  {
   "cell_type": "code",
   "execution_count": 36,
   "metadata": {},
   "outputs": [],
   "source": [
    "import re"
   ]
  },
  {
   "cell_type": "code",
   "execution_count": 37,
   "metadata": {},
   "outputs": [],
   "source": [
    "single_sentence = re.sub(r'[^A-Za-z]+',' ',single_sentence)"
   ]
  },
  {
   "cell_type": "code",
   "execution_count": 38,
   "metadata": {},
   "outputs": [
    {
     "data": {
      "text/plain": [
       "'National chain files for bankruptcy after missteps closing multiple Ohio restaurants NOW'"
      ]
     },
     "execution_count": 38,
     "metadata": {},
     "output_type": "execute_result"
    }
   ],
   "source": [
    "single_sentence"
   ]
  },
  {
   "cell_type": "code",
   "execution_count": 39,
   "metadata": {},
   "outputs": [
    {
     "name": "stdout",
     "output_type": "stream",
     "text": [
      "neutral\n"
     ]
    }
   ],
   "source": [
    "single_sentence_probas = sentiment_model.predict_proba(single_sentence)\n",
    "id2label = sentiment_model.model.config.id2label\n",
    "predicted_class_label = id2label[np.argmax(single_sentence_probas)]\n",
    "\n",
    "print(predicted_class_label)"
   ]
  },
  {
   "cell_type": "code",
   "execution_count": 47,
   "metadata": {},
   "outputs": [
    {
     "name": "stderr",
     "output_type": "stream",
     "text": [
      "100%|██████████| 1/1 [00:00<00:00, 1023.00it/s]\n"
     ]
    }
   ],
   "source": [
    "batch_sentence_probas = sentiment_model.batch_predict_proba(batch_sentences)\n",
    "predicted_class_labels = [id2label[i] for i in np.argmax(batch_sentence_probas, axis = -1)]"
   ]
  },
  {
   "cell_type": "code",
   "execution_count": 48,
   "metadata": {},
   "outputs": [
    {
     "name": "stdout",
     "output_type": "stream",
     "text": [
      "sentiment: neutral - National chain files for bankruptcy after missteps; closing multiple Ohio restaurants - 614NOW\n",
      "sentiment: negative - Steve Jobs screamed advice at Starbucks CEO, who wishes he'd listened - AppleInsider\n",
      "sentiment: neutral - Dozens Arrested as Activists Target Citigroup for Bankrolling Climate Breakdown - Common Dreams\n",
      "sentiment: neutral - Frontier hackers threaten to release private data for at least 750000 customers - The Verge\n",
      "sentiment: neutral - Economist Harry Dent predicts stock market crash worse than 2008 crisis: The ‘bubble of all bubbles’ - Fox Business\n",
      "sentiment: neutral - 2 Artificial Intelligence (AI) Semiconductor Stocks That Could Join Nvidia in the $1 Trillion Club - The Motley Fool\n",
      "sentiment: neutral - Why is it so hard to get a table at Carbone in NYC? - Time Out\n",
      "sentiment: neutral - Walmart condemns New York State push to require panic buttons in stores, report says - CNYcentral.com\n",
      "sentiment: neutral - Volvo suddenly shifts EX30, EX90 production to Belgium to avoid China-made EV tariffs - Electrek\n",
      "sentiment: neutral - Former OpenAI Director Warns There Are Bad Things AI Can Do Besides Kill You - Futurism\n",
      "sentiment: neutral - Some company heads hoped return-to-office mandates would make people quit, survey says - Ars Technica\n",
      "sentiment: positive - Noble-Diamond Offshore fusing into 'perfect fit': US drilling giants merging to create 41-strong rig fleet - Offshore Energy\n",
      "sentiment: neutral - Walmart plans major change to pricing: Here’s what it will look like - AL.com\n",
      "sentiment: neutral - This is when you can expect mortgage rates to go down — and why you should buy before a recession hits - New York Post \n",
      "sentiment: neutral - What the Fed's interest rate dot plot really means - Axios\n",
      "sentiment: neutral - Illinois winner of $552M Mega Millions jackpot is from Chicagoland, comes forward to claim prize - WGN TV Chicago\n",
      "sentiment: neutral - What Is AMD Stock Trading Lower On Monday? - Advanced Micro Devices (NASDAQ:AMD) - Benzinga\n",
      "sentiment: neutral - US Supreme Court to hear Facebook bid to scuttle shareholder lawsuit - Reuters\n",
      "sentiment: neutral - HomeGoods and other NJ retailers equip staff with bodycams - NorthJersey.com\n",
      "sentiment: positive - Three Democratic Senators Urge The Federal Reserve To Cut Rates At Its Meeting This Week - HuffPost\n",
      "sentiment: neutral - Arugula sold at major supermarket chain recalled over possible salmonella contamination - Fox Business\n",
      "sentiment: neutral - Scammers use fake social media accounts to impersonate airlines - BBC.com\n",
      "sentiment: neutral - Activist investor takes $1.9 billion stake in Southwest Airlines, calls for leadership changes - CNN\n",
      "sentiment: negative - Bitcoin Funds Added $2 Billion in Biggest Week for Crypto ETFs Since March - Decrypt\n",
      "sentiment: neutral - Bankrate: Homeownership costs 26% more than before COVID - Fortune\n",
      "sentiment: neutral - Nvidia, AMD, Southwest, GameStop, Apple, CrowdStrike, Diamond Offshore, and More Market Movers - Barron's\n",
      "sentiment: neutral - Porch pirate steals package in front of FedEx delivery driver in Ohio, video shows - Yahoo! Voices\n",
      "sentiment: neutral - Virgin Galactic has ceased flying its only space plane. Now what? - Ars Technica\n",
      "sentiment: positive - Toyota lost over $15 billion in market value last week after being caught falsifying tests - CNBC\n",
      "sentiment: neutral - Mob of looters ransack AutoZone in South Los Angeles - KABC-TV\n",
      "sentiment: neutral - Trump Media shares fall after new SEC filing with reaudited financial statement - CNBC\n",
      "sentiment: neutral - Gen Xer got $110K in student loans forgiven; brings easier retirement - Business Insider\n",
      "sentiment: neutral - Car insurance companies secretly collecting driver data with the help of phone apps: report - New York Post \n",
      "sentiment: neutral - Americans' inflation expectations creep higher again, key NY Fed survey shows - Fox Business\n",
      "sentiment: neutral - Nvidia's $3 trillion market cap means workers are worth $100 million each - Quartz\n",
      "sentiment: neutral - World's largest Buc-ee's opens in Texas Hill Country - KHOU.com\n",
      "sentiment: neutral - CrowdStrike rallies to record on cybersecurity company's inclusion in S&P 500 - CNBC\n",
      "sentiment: neutral - Dockworkers Cancel Bargaining, Threaten Strike at U.S. Seaports - The Wall Street Journal\n",
      "sentiment: positive - Mandiant says hackers stole a 'significant volume of data' from Snowflake customers - TechCrunch\n",
      "sentiment: neutral - In the Market: How the US is daring the world to find a dollar alternative - Reuters\n",
      "sentiment: neutral - 20 Things From Amazon That Make Perfect Father's Day Gifts - BuzzFeed\n",
      "sentiment: neutral - Investment banker caught on video slugging woman in face after Brooklyn Pride Parade - New York Daily News\n",
      "sentiment: neutral - Apple's WWDC, Elon Musk's Tesla payday, and tech earnings: What to watch in the markets this week - Quartz\n",
      "sentiment: neutral - Delta Starts Selling Premium Select Between JFK & LAX - One Mile at a Time\n",
      "sentiment: neutral - Abbott gets FDA clearance for over-the-counter continuous glucose monitors - The Verge\n",
      "sentiment: neutral - Paramount For Sale, Who's Buying? Edgar Bronfman Jr Latest To Eye Deal As Skydance Talks Continue - Deadline\n",
      "sentiment: neutral - Coffee, sculptures and financial advice. Banks try to make new branches less intimidating - The Associated Press\n",
      "sentiment: negative - Chrysler recalls more than 211000 SUVs and pickup trucks due to software malfunction - The Associated Press\n",
      "sentiment: neutral - 3 Tech Stocks to Buy for the Next Stage of AI Hype - InvestorPlace\n",
      "sentiment: positive - krispy kreme stock pops on truist upgrade for mcdonald's deal - Quartz\n",
      "sentiment: neutral - Hailstorm rips off Austrian Airlines plane nose, damages cockpit windows - Fox Weather \n",
      "sentiment: neutral - Elon Musk warns his companies would ban Apple devices after OpenAI deal: 'Unacceptable security violation' - New York Post \n",
      "sentiment: neutral - In Wyoming, Bill Gates moves ahead with nuclear project aimed at revolutionizing power generation - The Associated Press\n",
      "sentiment: neutral - Elon Musk pay package: Lawyers who blocked it seek $5.6 billion - Fortune\n",
      "sentiment: neutral - GameStop shares continue to plunge as frenzy over Roaring Kitty's return fizzles - New York Post \n",
      "sentiment: positive - OpenAI hires new CFO and product chief, announces Apple deal to integrate ChatGPT - CNBC\n",
      "sentiment: neutral - UAW President Fain under investigation by federal court watchdog - Detroit News\n",
      "sentiment: neutral - Uber loses challenge to California gig work law in US appeals court - Reuters\n",
      "sentiment: neutral - Check car recalls: Kia, Honda, Toyota, Ford among 687,000 recalled - USA TODAY\n",
      "sentiment: neutral - Cognizant to acquire Belcan for $1.3 billion - Reuters\n"
     ]
    }
   ],
   "source": [
    "for i,j in zip(batch_sentences,predicted_class_labels):\n",
    "    print(f'sentiment: {j} - {i}')"
   ]
  },
  {
   "cell_type": "code",
   "execution_count": null,
   "metadata": {},
   "outputs": [],
   "source": []
  }
 ],
 "metadata": {
  "kernelspec": {
   "display_name": "Python py312Venv",
   "language": "python",
   "name": "py312venv"
  },
  "language_info": {
   "codemirror_mode": {
    "name": "ipython",
    "version": 3
   },
   "file_extension": ".py",
   "mimetype": "text/x-python",
   "name": "python",
   "nbconvert_exporter": "python",
   "pygments_lexer": "ipython3",
   "version": "3.12.3"
  },
  "orig_nbformat": 4,
  "vscode": {
   "interpreter": {
    "hash": "094ffe61415a64c96c389b2ac3d6e28f3d4de70e9bd4a77bdc227cc709cf2d5b"
   }
  }
 },
 "nbformat": 4,
 "nbformat_minor": 2
}
