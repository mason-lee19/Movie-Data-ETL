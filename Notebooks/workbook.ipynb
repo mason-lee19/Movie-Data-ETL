{
 "cells": [
  {
   "cell_type": "code",
   "execution_count": 1,
   "metadata": {},
   "outputs": [],
   "source": [
    "from newsapi import NewsApiClient\n",
    "import os\n",
    "from pathlib import Path\n",
    "from dotenv import load_dotenv"
   ]
  },
  {
   "cell_type": "code",
   "execution_count": 2,
   "metadata": {},
   "outputs": [],
   "source": [
    "local_dir = os.path.dirname(os.path.abspath('__file__'))\n",
    "parent_dir = os.path.dirname(local_dir)\n",
    "api_env_filepath = os.path.join(parent_dir,'api.env')\n",
    "load_dotenv(Path(api_env_filepath))\n",
    "\n",
    "newsapi = NewsApiClient(api_key=os.getenv('NEWSAPI_API_KEY'))"
   ]
  },
  {
   "cell_type": "code",
   "execution_count": 20,
   "metadata": {},
   "outputs": [],
   "source": [
    "top_us_headlines = newsapi.get_top_headlines(\n",
    "    country='us',\n",
    "    category='business',\n",
    "    language='en',\n",
    "    page_size=100\n",
    ")"
   ]
  },
  {
   "cell_type": "code",
   "execution_count": 21,
   "metadata": {},
   "outputs": [
    {
     "name": "stdout",
     "output_type": "stream",
     "text": [
      "Microsoft confirms layoffs in mixed reality but will keep selling HoloLens 2 headsets - CNBC 2024-06-03T19:44:18Z\n",
      "Exclusive | E*Trade Considers Kicking Meme-Stock Leader Keith Gill Off Platform - The Wall Street Journal 2024-06-03T19:41:00Z\n",
      "Stock market today: Stocks slide amid weak manufacturing data, GameStop rallies after return of 'Roaring Kitty' - Yahoo Finance 2024-06-03T19:32:56Z\n",
      "Mexico awakes with joy, fear, market jitters to first woman elected president, Claudia Sheinbaum - The Associated Press 2024-06-03T19:07:00Z\n",
      "Poppi soda lawsuit says brand misled consumers about health benefits - USA TODAY 2024-06-03T18:22:30Z\n",
      "Oil falls 3% on OPEC production cut as demand worries surface - Yahoo Finance 2024-06-03T17:50:53Z\n",
      "Get ready for a summer of heat waves — and higher air conditioning bills - CNN 2024-06-03T17:14:00Z\n",
      "Butts, breasts, and genitals now explicitly allowed on Elon Musk's X - Ars Technica 2024-06-03T16:31:02Z\n",
      "Need a pharmacy? Finding access depends on the states and neighborhoods you live in - The Associated Press 2024-06-03T16:16:00Z\n",
      "Analyst resets Nvidia stock price target as CEO unveils new AI platform - TheStreet 2024-06-03T16:09:30Z\n",
      "GameStop stock soars after 'Roaring Kitty' reveals $175 million bet on the retailer - Yahoo Finance 2024-06-03T15:53:44Z\n",
      "London is desperate for IPOs. Could Shein end the drought? - CNN 2024-06-03T15:43:00Z\n",
      "NYSE says technical issue has been resolved and impacted stocks are reopening - CNN 2024-06-03T15:38:00Z\n",
      "Eminem-produced Michigan Central concert in Detroit to star Diana Ross, Jack White, more - Detroit Free Press 2024-06-03T15:31:43Z\n",
      "Paramount, Skydance Agree on New M&A Deal Terms but Shari Redstone Hasn’t Approved Pact Yet - Variety 2024-06-03T15:21:00Z\n",
      "Toyota apologizes for cheating on vehicle testing and halts production of three models - The Associated Press 2024-06-03T15:17:00Z\n",
      "Elon Musk is taking on Tesla “oathbreakers” in fight for his $56 billion pay package - The Verge 2024-06-03T14:21:13Z\n",
      "U.S. manufacturers shrink in May as orders drop. Industrial side of the economy is soft. - MarketWatch 2024-06-03T14:08:00Z\n",
      "Bitcoin billionaire, firm to settle D.C. tax fraud suit for $40 million - The Washington Post 2024-06-03T13:36:58Z\n",
      "Modi Awaits Fate as Indian Markets Already Cheer Third Term Win - Yahoo Finance 2024-06-03T13:30:00Z\n",
      "Bill Ackman sells 10% stake in Pershing Square for $1.05bn - Financial Times 2024-06-03T13:12:05Z\n",
      "Rupert Murdoch And Elena Zhukova Married In Sophisticated Wedding Style For Their Bel Air Vineyard Nuptials - NDTV Swirlster 2024-06-03T12:33:19Z\n",
      "Waste Management to acquire Stericycle in $7.2 billion deal - CNBC 2024-06-03T12:11:22Z\n",
      "Merck's 3-pronged cancer strategy stars Moderna-partnered vaccine - Fierce Biotech 2024-06-03T12:00:00Z\n",
      "CEOs got hefty pay raises in 2023, widening the gap with the workers they oversee - ABC News 2024-06-03T11:29:48Z\n",
      "Spotify raising prices again, Family plan now $3/mo more expensive than Apple Music - 9to5Mac 2024-06-03T11:06:00Z\n",
      "National Doughnut Day is almost here. How to get free Krispy Kreme. - USA TODAY 2024-06-03T10:51:51Z\n",
      "United briefly grounds plane after 30 passengers fall ill - Business Insider 2024-06-03T10:09:00Z\n",
      "Financial dangers of store credit cards can be 'severe,' expert warns - Fox Business 2024-06-03T10:00:00Z\n",
      "How American Express Became Millennials, Gen Z's Favorite Credit Card - Business Insider 2024-06-03T09:57:00Z\n",
      "The U.S. Gave Chip Makers Billions. Now Comes the Hard Part. - The Wall Street Journal 2024-06-03T01:00:00Z\n",
      "Cucumbers recalled in 14 states over salmonella concerns - USA TODAY 2024-06-03T00:11:59Z\n",
      "‘AMD Is a Big Threat,’ Says Investor About Nvidia Stock - TipRanks 2024-06-02T22:29:53Z\n",
      "[Removed] 1970-01-01T00:00:00Z\n",
      "ASCO: AstraZeneca's Tagrisso greatly slowed some lung cancers - STAT 2024-06-02T13:12:33Z\n"
     ]
    }
   ],
   "source": [
    "for i in top_us_headlines['articles']:\n",
    "    print(i['title'],i['publishedAt'])"
   ]
  },
  {
   "cell_type": "code",
   "execution_count": null,
   "metadata": {},
   "outputs": [],
   "source": []
  }
 ],
 "metadata": {
  "kernelspec": {
   "display_name": "Python 3.10.14 ('py310Venv')",
   "language": "python",
   "name": "python3"
  },
  "language_info": {
   "codemirror_mode": {
    "name": "ipython",
    "version": 3
   },
   "file_extension": ".py",
   "mimetype": "text/x-python",
   "name": "python",
   "nbconvert_exporter": "python",
   "pygments_lexer": "ipython3",
   "version": "3.10.14"
  },
  "orig_nbformat": 4,
  "vscode": {
   "interpreter": {
    "hash": "8ab845c3b8d3c3828af909c047a375a49c4ef1b49818cd9c2610ed717f1a537a"
   }
  }
 },
 "nbformat": 4,
 "nbformat_minor": 2
}
